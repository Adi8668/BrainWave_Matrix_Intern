{
 "cells": [
  {
   "cell_type": "markdown",
   "id": "394daf28",
   "metadata": {},
   "source": [
    "# Step-by-Step Explanation of the Retail Store Dataset Generation Code"
   ]
  },
  {
   "cell_type": "code",
   "execution_count": 43,
   "id": "1dee3219",
   "metadata": {},
   "outputs": [],
   "source": [
    "#1. Importing Necessary Libraries\n",
    "import pandas as pd # For creating and manuplatinf the dataset\n",
    "import numpy as np \n",
    "from faker import Faker # Generates realistic fake data for fields like dates, UUIDs, etc.\n",
    "import random # Used for selecting random values from lists like product catagories and store locations."
   ]
  },
  {
   "cell_type": "code",
   "execution_count": 44,
   "id": "8504b45e",
   "metadata": {},
   "outputs": [],
   "source": [
    "#2. Initialize Faker and Seed for Reproducibility\n",
    "fake = Faker() \n",
    "Faker.seed(0)  # Optional: Seed for reproducibility # Prepares the faker instance for generating data.\n",
    "random.seed(0)  # Optional: Seed for reproducibility # Ensures consistent output every time the script is run by fixing the randomization."
   ]
  },
  {
   "cell_type": "code",
   "execution_count": 56,
   "id": "42e90d55",
   "metadata": {},
   "outputs": [],
   "source": [
    "# Define the number of rows for the dataset\n",
    "num_rows = 3000"
   ]
  },
  {
   "cell_type": "code",
   "execution_count": 57,
   "id": "277cab63",
   "metadata": {},
   "outputs": [],
   "source": [
    "# Define product categories and products\n",
    "categories = {\n",
    "    \"Electronics\": [\"Smartphone\", \"Laptop\", \"Tablet\", \"Headphones\", \"Smartwatch\"],\n",
    "    \"Clothing\": [\"Shirt\", \"Jeans\", \"Jacket\", \"Dress\", \"Shoes\"],\n",
    "    \"Groceries\": [\"Milk\", \"Eggs\", \"Bread\", \"Fruits\", \"Vegetables\"],\n",
    "    \"Home Appliances\": [\"Mixer\", \"Vacuum Cleaner\", \"Air Conditioner\", \"Refrigerator\", \"Microwave\"],\n",
    "}\n",
    "#It defines a dictionary of product cataagories and their respective products."
   ]
  },
  {
   "cell_type": "code",
   "execution_count": 58,
   "id": "528b4d24",
   "metadata": {},
   "outputs": [],
   "source": [
    "# Payment methods\n",
    "payment_methods = [\"Credit Card\", \"Cash\", \"Debit Card\", \"Mobile Payment\"]\n",
    "#Lists available payment methods for transctions."
   ]
  },
  {
   "cell_type": "code",
   "execution_count": 59,
   "id": "201105a9",
   "metadata": {},
   "outputs": [],
   "source": [
    "# Store locations\n",
    "store_locations = [\"New York\", \"Los Angeles\", \"Chicago\", \"Houston\", \"Phoenix\"]\n",
    "#Specifies the possible store locations for transactions."
   ]
  },
  {
   "cell_type": "code",
   "execution_count": 60,
   "id": "d2011982",
   "metadata": {},
   "outputs": [],
   "source": [
    "# Initialize dataset dictionary\n",
    "data = {\n",
    "    \"Date\": [fake.date_between(start_date=\"-1y\", end_date=\"today\") for _ in range(num_rows)],\n",
    "    \"Customer ID\": [fake.uuid4()[:8] for _ in range(num_rows)],\n",
    "    \"Store Location\": [random.choice(store_locations) for _ in range(num_rows)],\n",
    "    \"Category\": [],\n",
    "    \"Product\": [],\n",
    "    \"Quantity\": [random.randint(1, 10) for _ in range(num_rows)],\n",
    "    \"Price\": [],\n",
    "    \"Payment Method\": [random.choice(payment_methods) for _ in range(num_rows)],\n",
    "}\n",
    "\n",
    "#Date: Random dates within the past year.\n",
    "#Customer ID: Unique customer identifiers truncated to 8 characters.\n",
    "#Store Location: Randomly selected store locations.\n",
    "#Quantity: Random quantity (between 1 and 10).\n",
    "#Payment Method: Randomly selected payment method.\n",
    "#Empty Columns: Category, Product, and Price to be populated in the next step."
   ]
  },
  {
   "cell_type": "code",
   "execution_count": 61,
   "id": "ff3fdc66",
   "metadata": {},
   "outputs": [],
   "source": [
    "# Populate category, product, and price columns\n",
    "for _ in range(num_rows):\n",
    "    category = random.choice(list(categories.keys()))\n",
    "    product = random.choice(categories[category])\n",
    "    data[\"Category\"].append(category)\n",
    "    data[\"Product\"].append(product)\n",
    "\n",
    "    # Assign price based on category\n",
    "    if category == \"Electronics\":\n",
    "        price = random.uniform(100, 1000)\n",
    "    elif category == \"Clothing\":\n",
    "        price = random.uniform(20, 200)\n",
    "    elif category == \"Groceries\":\n",
    "        price = random.uniform(5, 50)\n",
    "    elif category == \"Home Appliances\":\n",
    "        price = random.uniform(50, 500)\n",
    "\n",
    "    # Round price to two decimal places\n",
    "    data[\"Price\"].append(round(price, 2))\n",
    "#Category and Product: Randomly assigns a category and product.\n",
    "#Price: Randomly assigns a price based on the product category and rounds it to two decimal places."
   ]
  },
  {
   "cell_type": "code",
   "execution_count": 68,
   "id": "6ad369e6",
   "metadata": {},
   "outputs": [],
   "source": [
    "data[\"Total Sales\"] = [round(q * p, 2) for q, p in zip(data[\"Quantity\"], data[\"Price\"])]\n",
    "#Total Sales: Calculated by multiplying Quantity and Price for each row, rounded to two decimal places."
   ]
  },
  {
   "cell_type": "code",
   "execution_count": 62,
   "id": "7e08e9ac",
   "metadata": {},
   "outputs": [],
   "source": [
    "# Verify all columns have the same length\n",
    "for key, values in data.items():\n",
    "    assert len(values) == num_rows, f\"Column '{key}' has {len(values)} elements instead of {num_rows}.\""
   ]
  },
  {
   "cell_type": "code",
   "execution_count": 63,
   "id": "2ec61db6",
   "metadata": {},
   "outputs": [],
   "source": [
    "# Create a DataFrame\n",
    "df = pd.DataFrame(data)\n",
    "#Converts the dictionary into a structured pandas DataFrame."
   ]
  },
  {
   "cell_type": "code",
   "execution_count": 65,
   "id": "57c5aa92",
   "metadata": {},
   "outputs": [],
   "source": [
    "# Save the dataset to a CSV file\n",
    "output_file = \"retail_store_data_3000_rows.csv\"\n",
    "df.to_csv(output_file, index=False)\n",
    "\n",
    "#File Name: Saves the dataset as retail_store_data.csv.\n",
    "#Index: Excluded from the CSV file by setting index=False."
   ]
  },
  {
   "cell_type": "code",
   "execution_count": 66,
   "id": "0ef194c6",
   "metadata": {},
   "outputs": [
    {
     "name": "stdout",
     "output_type": "stream",
     "text": [
      "Dataset created and saved as 'retail_store_data_3000_rows.csv'.\n"
     ]
    }
   ],
   "source": [
    "print(f\"Dataset created and saved as '{output_file}'.\")"
   ]
  },
  {
   "cell_type": "code",
   "execution_count": 67,
   "id": "8d883093",
   "metadata": {},
   "outputs": [
    {
     "name": "stdout",
     "output_type": "stream",
     "text": [
      "File saved at: C:\\Users\\Admin\\Desktop\n"
     ]
    }
   ],
   "source": [
    "import os\n",
    "print(\"File saved at:\", os.getcwd())\n"
   ]
  },
  {
   "cell_type": "markdown",
   "id": "258460f4",
   "metadata": {},
   "source": [
    "# Summary of Output"
   ]
  },
  {
   "cell_type": "code",
   "execution_count": 1,
   "id": "f859f9b8",
   "metadata": {},
   "outputs": [],
   "source": [
    "#Dataset Details: The dataset contains 3000 rows with the following columns:\n",
    "#Date: Transaction date.\n",
    "#Customer ID: Unique identifier for each customer.\n",
    "#Store Location: Location of the transaction.\n",
    "#Category: Product category.\n",
    "#Product: Specific product purchased.\n",
    "#Quantity: Quantity of the product purchased.\n",
    "#Price: Price of the product.\n",
    "#Payment Method: Payment method used in the transaction.\n",
    "#Total Sales: Total sales value (Quantity × Price).\n",
    "#File Location: Saved as retail_store_data.csv in the current working directory. You can customize the file path by modifying the output_file variable."
   ]
  },
  {
   "cell_type": "code",
   "execution_count": null,
   "id": "1415dc07",
   "metadata": {},
   "outputs": [],
   "source": []
  }
 ],
 "metadata": {
  "kernelspec": {
   "display_name": "Python 3 (ipykernel)",
   "language": "python",
   "name": "python3"
  },
  "language_info": {
   "codemirror_mode": {
    "name": "ipython",
    "version": 3
   },
   "file_extension": ".py",
   "mimetype": "text/x-python",
   "name": "python",
   "nbconvert_exporter": "python",
   "pygments_lexer": "ipython3",
   "version": "3.11.5"
  }
 },
 "nbformat": 4,
 "nbformat_minor": 5
}
